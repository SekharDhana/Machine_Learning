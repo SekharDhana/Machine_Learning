{
  "nbformat": 4,
  "nbformat_minor": 0,
  "metadata": {
    "colab": {
      "name": "CNN_Grid_Search.ipynb",
      "provenance": [],
      "collapsed_sections": []
    },
    "kernelspec": {
      "name": "python3",
      "display_name": "Python 3"
    },
    "accelerator": "GPU"
  },
  "cells": [
    {
      "cell_type": "code",
      "metadata": {
        "id": "gM9fUHK8YGc6"
      },
      "source": [
        "import numpy as np\n",
        "from tensorflow import keras"
      ],
      "execution_count": 2,
      "outputs": []
    },
    {
      "cell_type": "code",
      "metadata": {
        "colab": {
          "base_uri": "https://localhost:8080/"
        },
        "id": "e_uLZVca4Gxh",
        "outputId": "58dbdea5-62cc-4279-de9c-9c3ffb86b673"
      },
      "source": [
        "(x_train, y_train), (x_test, y_test) = keras.datasets.mnist.load_data()"
      ],
      "execution_count": 3,
      "outputs": [
        {
          "output_type": "stream",
          "text": [
            "Downloading data from https://storage.googleapis.com/tensorflow/tf-keras-datasets/mnist.npz\n",
            "11493376/11490434 [==============================] - 0s 0us/step\n"
          ],
          "name": "stdout"
        }
      ]
    },
    {
      "cell_type": "code",
      "metadata": {
        "colab": {
          "base_uri": "https://localhost:8080/"
        },
        "id": "QLZMyg9S4Yie",
        "outputId": "6adf4bfb-e7f0-4a38-ddbb-f3e34da4e84c"
      },
      "source": [
        "x_train.shape"
      ],
      "execution_count": 4,
      "outputs": [
        {
          "output_type": "execute_result",
          "data": {
            "text/plain": [
              "(60000, 28, 28)"
            ]
          },
          "metadata": {
            "tags": []
          },
          "execution_count": 4
        }
      ]
    },
    {
      "cell_type": "code",
      "metadata": {
        "id": "U9FzKs3t4r0x"
      },
      "source": [
        "x_train = x_train/255\n",
        "x_test = x_test/255"
      ],
      "execution_count": 5,
      "outputs": []
    },
    {
      "cell_type": "code",
      "metadata": {
        "id": "jj3L7aIU5QhP"
      },
      "source": [
        "y_train = keras.utils.to_categorical(y_train)\n",
        "y_test = keras.utils.to_categorical(y_test)"
      ],
      "execution_count": 6,
      "outputs": []
    },
    {
      "cell_type": "code",
      "metadata": {
        "colab": {
          "base_uri": "https://localhost:8080/"
        },
        "id": "ymNG0eP26CQe",
        "outputId": "10390c23-2c79-418b-f3f5-6cf040173f6d"
      },
      "source": [
        "y_train.shape"
      ],
      "execution_count": 7,
      "outputs": [
        {
          "output_type": "execute_result",
          "data": {
            "text/plain": [
              "(60000, 10)"
            ]
          },
          "metadata": {
            "tags": []
          },
          "execution_count": 7
        }
      ]
    },
    {
      "cell_type": "code",
      "metadata": {
        "id": "IveUteM68h3X"
      },
      "source": [
        "x_train = np.expand_dims(x_train, -1)\n",
        "x_test = np.expand_dims(x_test, -1)"
      ],
      "execution_count": 8,
      "outputs": []
    },
    {
      "cell_type": "code",
      "metadata": {
        "id": "JjpP1CAR6D_7"
      },
      "source": [
        "model = keras.Sequential([\n",
        "                          keras.Input(shape=x_train[0].shape),\n",
        "                          keras.layers.Conv2D(32, kernel_size=(3,3), activation='relu'),\n",
        "                          keras.layers.MaxPool2D(pool_size=(2,2)),\n",
        "                          keras.layers.Conv2D(64, 3, activation='relu'),\n",
        "                          keras.layers.MaxPool2D(2),\n",
        "                          keras.layers.Flatten(),\n",
        "                          keras.layers.Dropout(0.5),\n",
        "                          keras.layers.Dense(10, activation='softmax')\n",
        "])"
      ],
      "execution_count": 9,
      "outputs": []
    },
    {
      "cell_type": "code",
      "metadata": {
        "id": "m8T4OrJy7gXk"
      },
      "source": [
        "model.compile(optimizer='adam', loss='categorical_crossentropy', metrics=['accuracy'])"
      ],
      "execution_count": 10,
      "outputs": []
    },
    {
      "cell_type": "code",
      "metadata": {
        "colab": {
          "base_uri": "https://localhost:8080/"
        },
        "id": "__fefAfx9J7S",
        "outputId": "805534c7-3d49-45e6-dda9-e9d6ee848fc9"
      },
      "source": [
        "history = model.fit(x_train, y_train, batch_size=128, epochs=15, verbose=1, use_multiprocessing=True)"
      ],
      "execution_count": 11,
      "outputs": [
        {
          "output_type": "stream",
          "text": [
            "Epoch 1/15\n",
            "469/469 [==============================] - 9s 4ms/step - loss: 0.7138 - accuracy: 0.7876\n",
            "Epoch 2/15\n",
            "469/469 [==============================] - 2s 4ms/step - loss: 0.1112 - accuracy: 0.9662\n",
            "Epoch 3/15\n",
            "469/469 [==============================] - 2s 4ms/step - loss: 0.0817 - accuracy: 0.9739\n",
            "Epoch 4/15\n",
            "469/469 [==============================] - 2s 4ms/step - loss: 0.0699 - accuracy: 0.9786\n",
            "Epoch 5/15\n",
            "469/469 [==============================] - 2s 4ms/step - loss: 0.0576 - accuracy: 0.9825\n",
            "Epoch 6/15\n",
            "469/469 [==============================] - 2s 4ms/step - loss: 0.0535 - accuracy: 0.9825\n",
            "Epoch 7/15\n",
            "469/469 [==============================] - 2s 4ms/step - loss: 0.0459 - accuracy: 0.9857\n",
            "Epoch 8/15\n",
            "469/469 [==============================] - 2s 4ms/step - loss: 0.0459 - accuracy: 0.9854\n",
            "Epoch 9/15\n",
            "469/469 [==============================] - 2s 4ms/step - loss: 0.0407 - accuracy: 0.9866\n",
            "Epoch 10/15\n",
            "469/469 [==============================] - 2s 4ms/step - loss: 0.0393 - accuracy: 0.9881\n",
            "Epoch 11/15\n",
            "469/469 [==============================] - 2s 4ms/step - loss: 0.0356 - accuracy: 0.9888\n",
            "Epoch 12/15\n",
            "469/469 [==============================] - 2s 4ms/step - loss: 0.0363 - accuracy: 0.9885\n",
            "Epoch 13/15\n",
            "469/469 [==============================] - 2s 4ms/step - loss: 0.0321 - accuracy: 0.9899\n",
            "Epoch 14/15\n",
            "469/469 [==============================] - 2s 4ms/step - loss: 0.0313 - accuracy: 0.9898\n",
            "Epoch 15/15\n",
            "469/469 [==============================] - 2s 4ms/step - loss: 0.0298 - accuracy: 0.9907\n"
          ],
          "name": "stdout"
        }
      ]
    },
    {
      "cell_type": "code",
      "metadata": {
        "colab": {
          "base_uri": "https://localhost:8080/"
        },
        "id": "eGmeeKTz9YNT",
        "outputId": "9abe4c62-e141-49e6-91e7-54a6d9e6ad5a"
      },
      "source": [
        "acc = model.evaluate(x_test, y_test)"
      ],
      "execution_count": 12,
      "outputs": [
        {
          "output_type": "stream",
          "text": [
            "313/313 [==============================] - 1s 2ms/step - loss: 0.0269 - accuracy: 0.9905\n"
          ],
          "name": "stdout"
        }
      ]
    },
    {
      "cell_type": "code",
      "metadata": {
        "colab": {
          "base_uri": "https://localhost:8080/"
        },
        "id": "iZezy_tZ9p61",
        "outputId": "51a2c903-d32a-4cbf-bf73-dfb2c3ed7228"
      },
      "source": [
        "acc[1]"
      ],
      "execution_count": 13,
      "outputs": [
        {
          "output_type": "execute_result",
          "data": {
            "text/plain": [
              "0.9904999732971191"
            ]
          },
          "metadata": {
            "tags": []
          },
          "execution_count": 13
        }
      ]
    },
    {
      "cell_type": "code",
      "metadata": {
        "colab": {
          "base_uri": "https://localhost:8080/",
          "height": 295
        },
        "id": "tFcq2LMH9iPK",
        "outputId": "4fc790c4-f3e7-4e0d-a2b0-776c385d8f99"
      },
      "source": [
        "%matplotlib inline\n",
        "from matplotlib import pyplot as plt\n",
        "plt.plot(history.history['accuracy'])\n",
        "plt.plot(history.history['loss'])\n",
        "plt.title('model accuracy')\n",
        "plt.ylabel('accuracy')\n",
        "plt.xlabel('epoch')\n",
        "plt.legend(['train', 'val'])\n",
        "plt.show()"
      ],
      "execution_count": 14,
      "outputs": [
        {
          "output_type": "display_data",
          "data": {
            "image/png": "[encoded data removed]",
            "text/plain": [
              "<Figure size 432x288 with 1 Axes>"
            ]
          },
          "metadata": {
            "tags": [],
            "needs_background": "light"
          }
        }
      ]
    },
    {
      "cell_type": "code",
      "metadata": {
        "id": "2KfVMl1u_Zug"
      },
      "source": [
        ""
      ],
      "execution_count": 14,
      "outputs": []
    },
    {
      "cell_type": "code",
      "metadata": {
        "id": "8IoMYducFHI2"
      },
      "source": [
        ""
      ],
      "execution_count": 14,
      "outputs": []
    },
    {
      "cell_type": "markdown",
      "metadata": {
        "id": "f2Hp2qLJFIQh"
      },
      "source": [
        "# Grid search Keras CNN"
      ]
    },
    {
      "cell_type": "code",
      "metadata": {
        "id": "6T130LhdFNT5"
      },
      "source": [
        "def tune_model(actvationfn):\n",
        "  model = keras.Sequential([\n",
        "                          keras.Input(shape=x_train[0].shape),\n",
        "                          keras.layers.Conv2D(32, kernel_size=(3,3), activation=actvationfn),\n",
        "                          keras.layers.MaxPool2D(pool_size=(2,2)),\n",
        "                          keras.layers.Conv2D(64, 3, activation=actvationfn),\n",
        "                          keras.layers.MaxPool2D(2),\n",
        "                          keras.layers.Flatten(),\n",
        "                          keras.layers.Dropout(0.5),\n",
        "                          keras.layers.Dense(10, activation='softmax')\n",
        "  ])\n",
        "  model.compile(optimizer='adam', loss='categorical_crossentropy', metrics=['accuracy'])\n",
        "  return model"
      ],
      "execution_count": 15,
      "outputs": []
    },
    {
      "cell_type": "code",
      "metadata": {
        "id": "lE1xbvHRFpL3"
      },
      "source": [
        "from keras.wrappers.scikit_learn import KerasClassifier\n",
        "from sklearn.model_selection import GridSearchCV"
      ],
      "execution_count": 16,
      "outputs": []
    },
    {
      "cell_type": "code",
      "metadata": {
        "colab": {
          "base_uri": "https://localhost:8080/"
        },
        "id": "RX42CcnsF23Q",
        "outputId": "ddd5751b-e2d1-436b-ae08-ba8437da54e9"
      },
      "source": [
        "model = KerasClassifier(build_fn=tune_model, epochs=15, batch_size=128, verbose=0)\n",
        "params = {'actvationfn' : ['sigmoid','relu']}\n",
        "gs = GridSearchCV(estimator=model, param_grid=params, verbose=1)\n",
        "acc = gs.fit(x_train, y_train)"
      ],
      "execution_count": 17,
      "outputs": [
        {
          "output_type": "stream",
          "text": [
            "Fitting 5 folds for each of 2 candidates, totalling 10 fits\n"
          ],
          "name": "stdout"
        },
        {
          "output_type": "stream",
          "text": [
            "[Parallel(n_jobs=1)]: Using backend SequentialBackend with 1 concurrent workers.\n",
            "[Parallel(n_jobs=1)]: Done  10 out of  10 | elapsed:  2.7min finished\n"
          ],
          "name": "stderr"
        }
      ]
    },
    {
      "cell_type": "code",
      "metadata": {
        "colab": {
          "base_uri": "https://localhost:8080/"
        },
        "id": "5ee6WaRVHVl2",
        "outputId": "18690edd-a530-4eb3-bacd-ba7d71075104"
      },
      "source": [
        "acc"
      ],
      "execution_count": 18,
      "outputs": [
        {
          "output_type": "execute_result",
          "data": {
            "text/plain": [
              "GridSearchCV(cv=None, error_score=nan,\n",
              "             estimator=<tensorflow.python.keras.wrappers.scikit_learn.KerasClassifier object at 0x7fd705f7bb00>,\n",
              "             iid='deprecated', n_jobs=None,\n",
              "             param_grid={'actvationfn': ['sigmoid', 'relu']},\n",
              "             pre_dispatch='2*n_jobs', refit=True, return_train_score=False,\n",
              "             scoring=None, verbose=1)"
            ]
          },
          "metadata": {
            "tags": []
          },
          "execution_count": 18
        }
      ]
    },
    {
      "cell_type": "code",
      "metadata": {
        "colab": {
          "base_uri": "https://localhost:8080/"
        },
        "id": "qC4Z3RoHJP1R",
        "outputId": "cf4036b3-d4e1-4d42-add2-8d5b7d019258"
      },
      "source": [
        "grid_result = acc\n",
        "print(\"Best: %f using %s\" % (grid_result.best_score_, grid_result.best_params_))\n",
        "means = grid_result.cv_results_['mean_test_score']\n",
        "stds = grid_result.cv_results_['std_test_score']\n",
        "params = grid_result.cv_results_['params']\n",
        "for mean, stdev, param in zip(means, stds, params):\n",
        "    print(\"%f (%f) with: %r\" % (mean, stdev, param))"
      ],
      "execution_count": 19,
      "outputs": [
        {
          "output_type": "stream",
          "text": [
            "Best: 0.989383 using {'actvationfn': 'relu'}\n",
            "0.979650 (0.002037) with: {'actvationfn': 'sigmoid'}\n",
            "0.989383 (0.001020) with: {'actvationfn': 'relu'}\n"
          ],
          "name": "stdout"
        }
      ]
    },
    {
      "cell_type": "code",
      "metadata": {
        "colab": {
          "base_uri": "https://localhost:8080/"
        },
        "id": "_W-T6ERjJeCi",
        "outputId": "89e0fe96-b84a-4037-897e-cdbaccf8524a"
      },
      "source": [
        "acc.best_params_"
      ],
      "execution_count": 20,
      "outputs": [
        {
          "output_type": "execute_result",
          "data": {
            "text/plain": [
              "{'actvationfn': 'relu'}"
            ]
          },
          "metadata": {
            "tags": []
          },
          "execution_count": 20
        }
      ]
    },
    {
      "cell_type": "code",
      "metadata": {
        "id": "1q-Rv1c1JmgD"
      },
      "source": [
        ""
      ],
      "execution_count": 20,
      "outputs": []
    },
    {
      "cell_type": "markdown",
      "metadata": {
        "id": "lzixJhj3bafq"
      },
      "source": [
        "# Grid Search for activation, batch size, epochs"
      ]
    },
    {
      "cell_type": "code",
      "metadata": {
        "id": "vw0iPgVbbfth"
      },
      "source": [
        "def tune_model(actvationfn):\n",
        "  model = keras.Sequential([\n",
        "                          keras.Input(shape=x_train[0].shape),\n",
        "                          keras.layers.Conv2D(32, kernel_size=(3,3), activation=actvationfn),\n",
        "                          keras.layers.MaxPool2D(pool_size=(2,2)),\n",
        "                          keras.layers.Conv2D(64, 3, activation=actvationfn),\n",
        "                          keras.layers.MaxPool2D(2),\n",
        "                          keras.layers.Flatten(),\n",
        "                          keras.layers.Dropout(0.5),\n",
        "                          keras.layers.Dense(10, activation='softmax')\n",
        "  ])\n",
        "  model.compile(optimizer='adam', loss='categorical_crossentropy', metrics=['accuracy'])\n",
        "  return model"
      ],
      "execution_count": 21,
      "outputs": []
    },
    {
      "cell_type": "code",
      "metadata": {
        "colab": {
          "base_uri": "https://localhost:8080/"
        },
        "id": "MXpJORTId2He",
        "outputId": "d1e437a9-3197-45fa-e4ed-1cbb6f6e9103"
      },
      "source": [
        "from keras.wrappers.scikit_learn import KerasClassifier\n",
        "from sklearn.model_selection import GridSearchCV\n",
        "model = KerasClassifier(build_fn=tune_model, epochs=15, batch_size=128, verbose=0)\n",
        "params = {'actvationfn' : ['sigmoid','relu'], 'batch_size':range(10,150,10)}\n",
        "gs = GridSearchCV(estimator=model, param_grid=params, verbose=1, n_jobs=-1)\n",
        "acc = gs.fit(x_train, y_train)"
      ],
      "execution_count": 22,
      "outputs": [
        {
          "output_type": "stream",
          "text": [
            "Fitting 5 folds for each of 28 candidates, totalling 140 fits\n"
          ],
          "name": "stdout"
        },
        {
          "output_type": "stream",
          "text": [
            "[Parallel(n_jobs=-1)]: Using backend LokyBackend with 2 concurrent workers.\n",
            "/usr/local/lib/python3.6/dist-packages/joblib/externals/loky/process_executor.py:691: UserWarning: A worker stopped while some jobs were given to the executor. This can be caused by a too short worker timeout or by a memory leak.\n",
            "  \"timeout or by a memory leak.\", UserWarning\n",
            "[Parallel(n_jobs=-1)]: Done  46 tasks      | elapsed: 28.0min\n",
            "[Parallel(n_jobs=-1)]: Done 140 out of 140 | elapsed: 68.2min finished\n"
          ],
          "name": "stderr"
        }
      ]
    },
    {
      "cell_type": "code",
      "metadata": {
        "colab": {
          "base_uri": "https://localhost:8080/"
        },
        "id": "8HURyMwneBuO",
        "outputId": "519e082b-e340-4bb9-ddfe-174caa98ceaf"
      },
      "source": [
        "grid_result = acc\n",
        "print(\"Best: %f using %s\" % (grid_result.best_score_, grid_result.best_params_))\n",
        "means = grid_result.cv_results_['mean_test_score']\n",
        "stds = grid_result.cv_results_['std_test_score']\n",
        "params = grid_result.cv_results_['params']\n",
        "for mean, stdev, param in zip(means, stds, params):\n",
        "    print(\"%f (%f) with: %r\" % (mean, stdev, param))"
      ],
      "execution_count": 23,
      "outputs": [
        {
          "output_type": "stream",
          "text": [
            "Best: 0.991333 using {'actvationfn': 'relu', 'batch_size': 20}\n",
            "0.985667 (0.001401) with: {'actvationfn': 'sigmoid', 'batch_size': 10}\n",
            "0.985050 (0.001698) with: {'actvationfn': 'sigmoid', 'batch_size': 20}\n",
            "0.984233 (0.001527) with: {'actvationfn': 'sigmoid', 'batch_size': 30}\n",
            "0.983267 (0.001902) with: {'actvationfn': 'sigmoid', 'batch_size': 40}\n",
            "0.982267 (0.001788) with: {'actvationfn': 'sigmoid', 'batch_size': 50}\n",
            "0.981417 (0.001679) with: {'actvationfn': 'sigmoid', 'batch_size': 60}\n",
            "0.982350 (0.001654) with: {'actvationfn': 'sigmoid', 'batch_size': 70}\n",
            "0.981217 (0.001569) with: {'actvationfn': 'sigmoid', 'batch_size': 80}\n",
            "0.980450 (0.002111) with: {'actvationfn': 'sigmoid', 'batch_size': 90}\n",
            "0.979050 (0.001783) with: {'actvationfn': 'sigmoid', 'batch_size': 100}\n",
            "0.980583 (0.001924) with: {'actvationfn': 'sigmoid', 'batch_size': 110}\n",
            "0.979417 (0.001342) with: {'actvationfn': 'sigmoid', 'batch_size': 120}\n",
            "0.978717 (0.002143) with: {'actvationfn': 'sigmoid', 'batch_size': 130}\n",
            "0.978283 (0.002465) with: {'actvationfn': 'sigmoid', 'batch_size': 140}\n",
            "0.990133 (0.000473) with: {'actvationfn': 'relu', 'batch_size': 10}\n",
            "0.991333 (0.000887) with: {'actvationfn': 'relu', 'batch_size': 20}\n",
            "0.990500 (0.001499) with: {'actvationfn': 'relu', 'batch_size': 30}\n",
            "0.990533 (0.001055) with: {'actvationfn': 'relu', 'batch_size': 40}\n",
            "0.990900 (0.000763) with: {'actvationfn': 'relu', 'batch_size': 50}\n",
            "0.990567 (0.000718) with: {'actvationfn': 'relu', 'batch_size': 60}\n",
            "0.990133 (0.000774) with: {'actvationfn': 'relu', 'batch_size': 70}\n",
            "0.990150 (0.000994) with: {'actvationfn': 'relu', 'batch_size': 80}\n",
            "0.989833 (0.001443) with: {'actvationfn': 'relu', 'batch_size': 90}\n",
            "0.990133 (0.001068) with: {'actvationfn': 'relu', 'batch_size': 100}\n",
            "0.989583 (0.000803) with: {'actvationfn': 'relu', 'batch_size': 110}\n",
            "0.989783 (0.000844) with: {'actvationfn': 'relu', 'batch_size': 120}\n",
            "0.989283 (0.001232) with: {'actvationfn': 'relu', 'batch_size': 130}\n",
            "0.989650 (0.001478) with: {'actvationfn': 'relu', 'batch_size': 140}\n"
          ],
          "name": "stdout"
        }
      ]
    },
    {
      "cell_type": "code",
      "metadata": {
        "colab": {
          "base_uri": "https://localhost:8080/"
        },
        "id": "P_ZGAecTelzy",
        "outputId": "b4bde883-d41a-4186-c40b-dae88a331695"
      },
      "source": [
        "model = keras.Sequential([\n",
        "                          keras.Input(shape=x_train[0].shape),\n",
        "                          keras.layers.Conv2D(32, kernel_size=(3,3), activation='relu'),\n",
        "                          keras.layers.MaxPool2D(pool_size=(2,2)),\n",
        "                          keras.layers.Conv2D(64, 3, activation='relu'),\n",
        "                          keras.layers.MaxPool2D(2),\n",
        "                          keras.layers.Flatten(),\n",
        "                          keras.layers.Dropout(0.5),\n",
        "                          keras.layers.Dense(10, activation='softmax')\n",
        "])\n",
        "model.compile(optimizer='adam', loss='categorical_crossentropy', metrics=['accuracy'])\n",
        "history = model.fit(x_train, y_train, batch_size=20, epochs=15, verbose=1, use_multiprocessing=True)\n",
        "acc = model.evaluate(x_test, y_test)"
      ],
      "execution_count": 24,
      "outputs": [
        {
          "output_type": "stream",
          "text": [
            "Epoch 1/15\n",
            "3000/3000 [==============================] - 8s 3ms/step - loss: 0.3929 - accuracy: 0.8752\n",
            "Epoch 2/15\n",
            "3000/3000 [==============================] - 8s 3ms/step - loss: 0.0772 - accuracy: 0.9755\n",
            "Epoch 3/15\n",
            "3000/3000 [==============================] - 8s 3ms/step - loss: 0.0586 - accuracy: 0.9811\n",
            "Epoch 4/15\n",
            "3000/3000 [==============================] - 8s 3ms/step - loss: 0.0467 - accuracy: 0.9852\n",
            "Epoch 5/15\n",
            "3000/3000 [==============================] - 8s 3ms/step - loss: 0.0434 - accuracy: 0.9862\n",
            "Epoch 6/15\n",
            "3000/3000 [==============================] - 8s 3ms/step - loss: 0.0405 - accuracy: 0.9875\n",
            "Epoch 7/15\n",
            "3000/3000 [==============================] - 8s 3ms/step - loss: 0.0391 - accuracy: 0.9875\n",
            "Epoch 8/15\n",
            "3000/3000 [==============================] - 8s 3ms/step - loss: 0.0317 - accuracy: 0.9888\n",
            "Epoch 9/15\n",
            "3000/3000 [==============================] - 8s 3ms/step - loss: 0.0336 - accuracy: 0.9901\n",
            "Epoch 10/15\n",
            "3000/3000 [==============================] - 8s 3ms/step - loss: 0.0312 - accuracy: 0.9902\n",
            "Epoch 11/15\n",
            "3000/3000 [==============================] - 8s 3ms/step - loss: 0.0290 - accuracy: 0.9903\n",
            "Epoch 12/15\n",
            "3000/3000 [==============================] - 7s 2ms/step - loss: 0.0293 - accuracy: 0.9904\n",
            "Epoch 13/15\n",
            "3000/3000 [==============================] - 8s 3ms/step - loss: 0.0281 - accuracy: 0.9914\n",
            "Epoch 14/15\n",
            "3000/3000 [==============================] - 8s 3ms/step - loss: 0.0258 - accuracy: 0.9910\n",
            "Epoch 15/15\n",
            "3000/3000 [==============================] - 8s 3ms/step - loss: 0.0253 - accuracy: 0.9916\n",
            "313/313 [==============================] - 1s 2ms/step - loss: 0.0237 - accuracy: 0.9932\n"
          ],
          "name": "stdout"
        }
      ]
    },
    {
      "cell_type": "code",
      "metadata": {
        "colab": {
          "base_uri": "https://localhost:8080/"
        },
        "id": "94uN0QJk2e9x",
        "outputId": "2a7f4123-e2e9-4cb7-e3d5-7ef4c1cda29b"
      },
      "source": [
        "acc[1]"
      ],
      "execution_count": 25,
      "outputs": [
        {
          "output_type": "execute_result",
          "data": {
            "text/plain": [
              "0.9932000041007996"
            ]
          },
          "metadata": {
            "tags": []
          },
          "execution_count": 25
        }
      ]
    },
    {
      "cell_type": "code",
      "metadata": {
        "colab": {
          "base_uri": "https://localhost:8080/",
          "height": 295
        },
        "id": "tedBsezt28wW",
        "outputId": "0bd9ca27-bcb5-4483-f6d1-e8afd195e12e"
      },
      "source": [
        "%matplotlib inline\n",
        "from matplotlib import pyplot as plt\n",
        "plt.plot(history.history['accuracy'])\n",
        "plt.plot(history.history['loss'])\n",
        "plt.title('model accuracy')\n",
        "plt.ylabel('accuracy')\n",
        "plt.xlabel('epoch')\n",
        "plt.legend(['train', 'val'])\n",
        "plt.show()"
      ],
      "execution_count": 26,
      "outputs": [
        {
          "output_type": "display_data",
          "data": {
            "image/png": "[encoded data removed]",
            "text/plain": [
              "<Figure size 432x288 with 1 Axes>"
            ]
          },
          "metadata": {
            "tags": [],
            "needs_background": "light"
          }
        }
      ]
    },
    {
      "cell_type": "code",
      "metadata": {
        "colab": {
          "base_uri": "https://localhost:8080/"
        },
        "id": "FmvxFPPI3C-5",
        "outputId": "fd54c76f-01e5-435e-8f9c-7b4c6057184f"
      },
      "source": [
        "acc[0]"
      ],
      "execution_count": 28,
      "outputs": [
        {
          "output_type": "execute_result",
          "data": {
            "text/plain": [
              "0.02374909445643425"
            ]
          },
          "metadata": {
            "tags": []
          },
          "execution_count": 28
        }
      ]
    },
    {
      "cell_type": "code",
      "metadata": {
        "id": "rakdnX_E3GvJ"
      },
      "source": [
        ""
      ],
      "execution_count": null,
      "outputs": []
    }
  ]
}