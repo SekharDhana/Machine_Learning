{
  "nbformat": 4,
  "nbformat_minor": 0,
  "metadata": {
    "colab": {
      "name": "svr.ipynb",
      "provenance": []
    },
    "kernelspec": {
      "name": "python3",
      "display_name": "Python 3"
    }
  },
  "cells": [
    {
      "cell_type": "code",
      "metadata": {
        "id": "plOdW9MMSQvx"
      },
      "source": [
        "import pandas as pd\n",
        "from sklearn.model_selection import train_test_split, GridSearchCV\n",
        "from sklearn.svm import SVR\n",
        "from sklearn.metrics import accuracy_score, confusion_matrix, explained_variance_score\n",
        "from sklearn.preprocessing import StandardScaler\n",
        "from sklearn.pipeline import make_pipeline"
      ],
      "execution_count": 47,
      "outputs": []
    },
    {
      "cell_type": "code",
      "metadata": {
        "id": "FVmQXyAtT89R"
      },
      "source": [
        "df = pd.read_csv(\"/content/drive/MyDrive/DATASETS/Boston.csv\")"
      ],
      "execution_count": 32,
      "outputs": []
    },
    {
      "cell_type": "code",
      "metadata": {
        "colab": {
          "base_uri": "https://localhost:8080/",
          "height": 204
        },
        "id": "oyEo6m_yUD-u",
        "outputId": "08e1c0f1-1999-4921-d4fd-4c8df20625cb"
      },
      "source": [
        "df.head()"
      ],
      "execution_count": 33,
      "outputs": [
        {
          "output_type": "execute_result",
          "data": {
            "text/html": [
              "<div>\n",
              "<style scoped>\n",
              "    .dataframe tbody tr th:only-of-type {\n",
              "        vertical-align: middle;\n",
              "    }\n",
              "\n",
              "    .dataframe tbody tr th {\n",
              "        vertical-align: top;\n",
              "    }\n",
              "\n",
              "    .dataframe thead th {\n",
              "        text-align: right;\n",
              "    }\n",
              "</style>\n",
              "<table border=\"1\" class=\"dataframe\">\n",
              "  <thead>\n",
              "    <tr style=\"text-align: right;\">\n",
              "      <th></th>\n",
              "      <th>Unnamed: 0</th>\n",
              "      <th>crim</th>\n",
              "      <th>zn</th>\n",
              "      <th>indus</th>\n",
              "      <th>chas</th>\n",
              "      <th>nox</th>\n",
              "      <th>rm</th>\n",
              "      <th>age</th>\n",
              "      <th>dis</th>\n",
              "      <th>rad</th>\n",
              "      <th>tax</th>\n",
              "      <th>ptratio</th>\n",
              "      <th>black</th>\n",
              "      <th>lstat</th>\n",
              "      <th>medv</th>\n",
              "    </tr>\n",
              "  </thead>\n",
              "  <tbody>\n",
              "    <tr>\n",
              "      <th>0</th>\n",
              "      <td>1</td>\n",
              "      <td>0.00632</td>\n",
              "      <td>18.0</td>\n",
              "      <td>2.31</td>\n",
              "      <td>0</td>\n",
              "      <td>0.538</td>\n",
              "      <td>6.575</td>\n",
              "      <td>65.2</td>\n",
              "      <td>4.0900</td>\n",
              "      <td>1</td>\n",
              "      <td>296</td>\n",
              "      <td>15.3</td>\n",
              "      <td>396.90</td>\n",
              "      <td>4.98</td>\n",
              "      <td>24.0</td>\n",
              "    </tr>\n",
              "    <tr>\n",
              "      <th>1</th>\n",
              "      <td>2</td>\n",
              "      <td>0.02731</td>\n",
              "      <td>0.0</td>\n",
              "      <td>7.07</td>\n",
              "      <td>0</td>\n",
              "      <td>0.469</td>\n",
              "      <td>6.421</td>\n",
              "      <td>78.9</td>\n",
              "      <td>4.9671</td>\n",
              "      <td>2</td>\n",
              "      <td>242</td>\n",
              "      <td>17.8</td>\n",
              "      <td>396.90</td>\n",
              "      <td>9.14</td>\n",
              "      <td>21.6</td>\n",
              "    </tr>\n",
              "    <tr>\n",
              "      <th>2</th>\n",
              "      <td>3</td>\n",
              "      <td>0.02729</td>\n",
              "      <td>0.0</td>\n",
              "      <td>7.07</td>\n",
              "      <td>0</td>\n",
              "      <td>0.469</td>\n",
              "      <td>7.185</td>\n",
              "      <td>61.1</td>\n",
              "      <td>4.9671</td>\n",
              "      <td>2</td>\n",
              "      <td>242</td>\n",
              "      <td>17.8</td>\n",
              "      <td>392.83</td>\n",
              "      <td>4.03</td>\n",
              "      <td>34.7</td>\n",
              "    </tr>\n",
              "    <tr>\n",
              "      <th>3</th>\n",
              "      <td>4</td>\n",
              "      <td>0.03237</td>\n",
              "      <td>0.0</td>\n",
              "      <td>2.18</td>\n",
              "      <td>0</td>\n",
              "      <td>0.458</td>\n",
              "      <td>6.998</td>\n",
              "      <td>45.8</td>\n",
              "      <td>6.0622</td>\n",
              "      <td>3</td>\n",
              "      <td>222</td>\n",
              "      <td>18.7</td>\n",
              "      <td>394.63</td>\n",
              "      <td>2.94</td>\n",
              "      <td>33.4</td>\n",
              "    </tr>\n",
              "    <tr>\n",
              "      <th>4</th>\n",
              "      <td>5</td>\n",
              "      <td>0.06905</td>\n",
              "      <td>0.0</td>\n",
              "      <td>2.18</td>\n",
              "      <td>0</td>\n",
              "      <td>0.458</td>\n",
              "      <td>7.147</td>\n",
              "      <td>54.2</td>\n",
              "      <td>6.0622</td>\n",
              "      <td>3</td>\n",
              "      <td>222</td>\n",
              "      <td>18.7</td>\n",
              "      <td>396.90</td>\n",
              "      <td>5.33</td>\n",
              "      <td>36.2</td>\n",
              "    </tr>\n",
              "  </tbody>\n",
              "</table>\n",
              "</div>"
            ],
            "text/plain": [
              "   Unnamed: 0     crim    zn  indus  chas  ...  tax  ptratio   black  lstat  medv\n",
              "0           1  0.00632  18.0   2.31     0  ...  296     15.3  396.90   4.98  24.0\n",
              "1           2  0.02731   0.0   7.07     0  ...  242     17.8  396.90   9.14  21.6\n",
              "2           3  0.02729   0.0   7.07     0  ...  242     17.8  392.83   4.03  34.7\n",
              "3           4  0.03237   0.0   2.18     0  ...  222     18.7  394.63   2.94  33.4\n",
              "4           5  0.06905   0.0   2.18     0  ...  222     18.7  396.90   5.33  36.2\n",
              "\n",
              "[5 rows x 15 columns]"
            ]
          },
          "metadata": {
            "tags": []
          },
          "execution_count": 33
        }
      ]
    },
    {
      "cell_type": "code",
      "metadata": {
        "id": "tIgoOAngUE3w"
      },
      "source": [
        "x = df.iloc[:, 1:13]\n",
        "y = df['medv']\n",
        "sc_X = StandardScaler()\n",
        "# sc_y = StandardScaler()\n",
        "x = sc_X.fit_transform(x)\n",
        "# y = sc_y.fit_transform(y)"
      ],
      "execution_count": 36,
      "outputs": []
    },
    {
      "cell_type": "code",
      "metadata": {
        "id": "4pdyEvo7Ukbe"
      },
      "source": [
        "x_train, x_test, y_train, y_test = train_test_split(x,y, test_size = 0.2)"
      ],
      "execution_count": 37,
      "outputs": []
    },
    {
      "cell_type": "code",
      "metadata": {
        "colab": {
          "base_uri": "https://localhost:8080/"
        },
        "id": "KJOyF-npVQFf",
        "outputId": "f2dc5aec-f079-43c8-f645-5e9dcd918055"
      },
      "source": [
        "param = {'C':list(range(1,100)), \"kernel\":['linear', 'poly', 'rbf', 'sigmoid'], \"epsilon\":list(range(1,100))}\n",
        "# regr = make_pipeline(StandardScaler(), GridSearchCV(SVR(), param, n_jobs=-1, verbose=1))\n",
        "# best_model = regr.fit(x_train, y_train)\n",
        "\n",
        "gs = GridSearchCV(SVR(), param, n_jobs=-1, verbose=1)\n",
        "best_model = gs.fit(x_train, y_train)"
      ],
      "execution_count": 38,
      "outputs": [
        {
          "output_type": "stream",
          "text": [
            "Fitting 5 folds for each of 39204 candidates, totalling 196020 fits\n"
          ],
          "name": "stdout"
        },
        {
          "output_type": "stream",
          "text": [
            "[Parallel(n_jobs=-1)]: Using backend LokyBackend with 2 concurrent workers.\n",
            "[Parallel(n_jobs=-1)]: Done 424 tasks      | elapsed:    2.7s\n",
            "[Parallel(n_jobs=-1)]: Done 10024 tasks      | elapsed:   21.5s\n",
            "[Parallel(n_jobs=-1)]: Done 26024 tasks      | elapsed:   58.5s\n",
            "[Parallel(n_jobs=-1)]: Done 48424 tasks      | elapsed:  1.9min\n",
            "[Parallel(n_jobs=-1)]: Done 77224 tasks      | elapsed:  3.3min\n",
            "[Parallel(n_jobs=-1)]: Done 110056 tasks      | elapsed:  5.1min\n",
            "[Parallel(n_jobs=-1)]: Done 145080 tasks      | elapsed:  7.3min\n",
            "[Parallel(n_jobs=-1)]: Done 182620 tasks      | elapsed:  9.9min\n",
            "[Parallel(n_jobs=-1)]: Done 196017 out of 196020 | elapsed: 10.7min remaining:    0.0s\n",
            "[Parallel(n_jobs=-1)]: Done 196020 out of 196020 | elapsed: 10.7min finished\n"
          ],
          "name": "stderr"
        }
      ]
    },
    {
      "cell_type": "code",
      "metadata": {
        "id": "sfZmvu4SdAJ7"
      },
      "source": [
        "model = best_model.best_estimator_.fit(x_train,y_train)\n",
        "pred = model.predict(x_test)\n",
        "# acc = accuracy_score(y_test, pred)"
      ],
      "execution_count": 41,
      "outputs": []
    },
    {
      "cell_type": "code",
      "metadata": {
        "colab": {
          "base_uri": "https://localhost:8080/"
        },
        "id": "AJfZLhP51fEZ",
        "outputId": "5198a401-1d70-46cb-8b73-1166282ced9a"
      },
      "source": [
        "explained_variance_score(y_test, pred)"
      ],
      "execution_count": 48,
      "outputs": [
        {
          "output_type": "execute_result",
          "data": {
            "text/plain": [
              "0.8808863041848168"
            ]
          },
          "metadata": {
            "tags": []
          },
          "execution_count": 48
        }
      ]
    },
    {
      "cell_type": "code",
      "metadata": {
        "id": "cE3Dqgv42INq"
      },
      "source": [
        ""
      ],
      "execution_count": null,
      "outputs": []
    }
  ]
}